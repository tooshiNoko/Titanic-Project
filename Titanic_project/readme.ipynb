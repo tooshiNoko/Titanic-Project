{
 "cells": [
  {
   "cell_type": "code",
   "execution_count": null,
   "metadata": {},
   "outputs": [],
   "source": [
    "Wikipedia contributors. (2024, junio 5). Sinking of the titanic. Wikipedia, The Free Encyclopedia. https://en.wikipedia.org/w/index.php?title=Sinking_of_the_Titanic&oldid=1227439493"
   ]
  }
 ],
 "metadata": {
  "language_info": {
   "name": "python"
  }
 },
 "nbformat": 4,
 "nbformat_minor": 2
}
